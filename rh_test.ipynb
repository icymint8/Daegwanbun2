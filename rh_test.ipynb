{
 "cells": [
  {
   "cell_type": "code",
   "id": "initial_id",
   "metadata": {
    "collapsed": true,
    "ExecuteTime": {
     "end_time": "2024-12-06T06:31:33.309907Z",
     "start_time": "2024-12-06T06:31:32.374637Z"
    }
   },
   "source": [
    "# nltk 사용시 이 명령어 써줘야 함\n",
    "import nltk\n",
    "\n",
    "# 가상 환경 내에 설치될 경로 지정\n",
    "nltk.data.path.append('/venv/nltk_data')\n",
    "\n",
    "# 체크\n",
    "print(nltk.data.path)"
   ],
   "outputs": [
    {
     "name": "stdout",
     "output_type": "stream",
     "text": [
      "['C:\\\\Users\\\\rrhhk/nltk_data', 'C:\\\\Users\\\\rrhhk\\\\Desktop\\\\Codes\\\\Daegwanbun2\\\\venv\\\\nltk_data', 'C:\\\\Users\\\\rrhhk\\\\Desktop\\\\Codes\\\\Daegwanbun2\\\\venv\\\\share\\\\nltk_data', 'C:\\\\Users\\\\rrhhk\\\\Desktop\\\\Codes\\\\Daegwanbun2\\\\venv\\\\lib\\\\nltk_data', 'C:\\\\Users\\\\rrhhk\\\\AppData\\\\Roaming\\\\nltk_data', 'C:\\\\nltk_data', 'D:\\\\nltk_data', 'E:\\\\nltk_data', '/venv/nltk_data']\n"
     ]
    }
   ],
   "execution_count": 1
  },
  {
   "metadata": {
    "ExecuteTime": {
     "end_time": "2024-12-06T06:42:03.717176Z",
     "start_time": "2024-12-06T06:39:52.544617Z"
    }
   },
   "cell_type": "code",
   "source": [
    "from sklearn.datasets import fetch_20newsgroups\n",
    "\n",
    "categories = [\"alt.atheism\", \"soc.religion.christian\", \"comp.graphics\", \"sci.med\"]\n",
    "\n",
    "twenty_train = fetch_20newsgroups(subset=\"train\", categories=categories, shuffle=True, random_state=42)\n",
    "twenty_train.target_names"
   ],
   "id": "d9bcf2e191243bb9",
   "outputs": [
    {
     "data": {
      "text/plain": [
       "['alt.atheism', 'comp.graphics', 'sci.med', 'soc.religion.christian']"
      ]
     },
     "execution_count": 5,
     "metadata": {},
     "output_type": "execute_result"
    }
   ],
   "execution_count": 5
  },
  {
   "metadata": {},
   "cell_type": "code",
   "outputs": [],
   "execution_count": null,
   "source": [
    "\n",
    "\n",
    "\n"
   ],
   "id": "cb941a8b5038edd3"
  }
 ],
 "metadata": {
  "kernelspec": {
   "display_name": "Python 3",
   "language": "python",
   "name": "python3"
  },
  "language_info": {
   "codemirror_mode": {
    "name": "ipython",
    "version": 2
   },
   "file_extension": ".py",
   "mimetype": "text/x-python",
   "name": "python",
   "nbconvert_exporter": "python",
   "pygments_lexer": "ipython2",
   "version": "2.7.6"
  }
 },
 "nbformat": 4,
 "nbformat_minor": 5
}
